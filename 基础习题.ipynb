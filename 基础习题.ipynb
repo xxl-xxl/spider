{
 "cells": [
  {
   "cell_type": "markdown",
   "metadata": {},
   "source": [
    "## 什么是BIF，python3提供了多少个BIF\n",
    "- BIF内嵌函数 68个"
   ]
  },
  {
   "cell_type": "code",
   "execution_count": 5,
   "metadata": {},
   "outputs": [
    {
     "name": "stdout",
     "output_type": "stream",
     "text": [
      "输入姓名：小柳\n",
      "你好，小柳\n"
     ]
    }
   ],
   "source": [
    "#编写程序，要求用户输入姓名并且打印”你好，姓名“\n",
    "name = input('输入姓名：')\n",
    "print('你好，'+name)"
   ]
  },
  {
   "cell_type": "code",
   "execution_count": 6,
   "metadata": {},
   "outputs": [
    {
     "name": "stdout",
     "output_type": "stream",
     "text": [
      "输入1-100之间的整数：100\n",
      "输入正确\n"
     ]
    }
   ],
   "source": [
    "#要求用户输入1-100之间的整数并且判断，符合要求打印”输入正确“否则打印”输入错误“\n",
    "num = int(input('输入1-100之间的整数：'))\n",
    "if 1<=num<=100:\n",
    "    print('输入正确')\n",
    "else:\n",
    "    print('输入错误')"
   ]
  },
  {
   "cell_type": "code",
   "execution_count": 7,
   "metadata": {},
   "outputs": [
    {
     "name": "stdout",
     "output_type": "stream",
     "text": [
      "3\n"
     ]
    }
   ],
   "source": [
    "#int()将小数转换为整数，结果向下取整\n",
    "print(int(3.14))"
   ]
  },
  {
   "cell_type": "code",
   "execution_count": 18,
   "metadata": {},
   "outputs": [
    {
     "name": "stdout",
     "output_type": "stream",
     "text": [
      "输入年份：2016\n",
      "2016是闰年\n"
     ]
    }
   ],
   "source": [
    "#判断是否为闰年\n",
    "year = int(input('输入年份：'))\n",
    "while year % 4 == 0 and year % 100 != 0 or year % 400 == 0:\n",
    "    print(str(year) + '是闰年')\n",
    "    break\n",
    "else:\n",
    "    print(str(year) + '不是闰年')"
   ]
  },
  {
   "cell_type": "code",
   "execution_count": 17,
   "metadata": {},
   "outputs": [
    {
     "name": "stdout",
     "output_type": "stream",
     "text": [
      "输入你猜的数字：50\n",
      "小了\n",
      "输入你猜的数字：70\n",
      "大了\n",
      "输入你猜的数字：60\n",
      "小了\n",
      "输入你猜的数字：65\n",
      "小了\n",
      "输入你猜的数字：67\n",
      "猜对了，游戏结束\n"
     ]
    }
   ],
   "source": [
    "'''\n",
    "猜数字6次机会，数字随机生成，\n",
    "猜错提示大了或小了，\n",
    "三次内猜对打印”猜对了，游戏结束“，\n",
    "三次机会用完未猜对打印”机会用完，游戏结束“\n",
    "'''\n",
    "import random\n",
    "random_num = random.randint(1,100)\n",
    "times = 6\n",
    "while times:\n",
    "    you_num =int(input('输入你猜的数字：'))\n",
    "    if you_num == random_num:\n",
    "        print('猜对了，游戏结束')\n",
    "        break\n",
    "    elif you_num > random_num:\n",
    "        print('大了')\n",
    "    else:\n",
    "        print('小了')\n",
    "    times -= 1\n",
    "else:\n",
    "    print('机会用完，游戏结束')"
   ]
  },
  {
   "cell_type": "code",
   "execution_count": 6,
   "metadata": {},
   "outputs": [
    {
     "name": "stdout",
     "output_type": "stream",
     "text": [
      "1 3 5 7 9 11 13 15 17 19 21 23 25 27 29 31 33 35 37 39 41 43 45 47 49 51 53 55 57 59 61 63 65 67 69 71 73 75 77 79 81 83 85 87 89 91 93 95 97 99 "
     ]
    }
   ],
   "source": [
    "#打印1-100所有奇数\n",
    "for i in range(1,101):\n",
    "    if i % 2 != 0:\n",
    "        print(i,end=\" \")"
   ]
  },
  {
   "cell_type": "code",
   "execution_count": 10,
   "metadata": {},
   "outputs": [
    {
     "name": "stdout",
     "output_type": "stream",
     "text": [
      "输入数字范围：1000\n",
      "119\n",
      "329\n",
      "539\n",
      "749\n",
      "959\n"
     ]
    }
   ],
   "source": [
    "#爱因斯坦阶梯问题\n",
    "x =int(input('输入数字范围：'))\n",
    "for x in range(1,x+1):\n",
    "    if (x % 2 == 1) \\\n",
    "    and (x % 3 == 2) \\\n",
    "    and (x % 5 == 4) \\\n",
    "    and (x % 6 == 5) \\\n",
    "    and (x % 7 == 0):\n",
    "        print(x)"
   ]
  },
  {
   "cell_type": "code",
   "execution_count": 13,
   "metadata": {},
   "outputs": [
    {
     "name": "stdout",
     "output_type": "stream",
     "text": [
      "1 2 3\n",
      "3 1 2\n"
     ]
    }
   ],
   "source": [
    "#三个变量值互换\n",
    "x,y,z =1,2,3\n",
    "print(x,y,z)\n",
    "x,y,z = z,x,y\n",
    "print(x,y,z)"
   ]
  },
  {
   "cell_type": "code",
   "execution_count": 1,
   "metadata": {},
   "outputs": [
    {
     "name": "stdout",
     "output_type": "stream",
     "text": [
      "输入密码：***\n",
      "密码中不能带有*\n",
      "还有3次机会\n",
      "输入密码：123\n",
      "密码错误\n",
      "还有2次机会\n",
      "输入密码：asc123\n",
      "密码正确\n"
     ]
    }
   ],
   "source": [
    "#验证用户输入的密码，用户只有三次机会，若用户输入密码带*号则不计算在内\n",
    "password = 'asc123'\n",
    "password_times = 3\n",
    "while password_times:\n",
    "    you_password = input('输入密码：')\n",
    "    if you_password == password:\n",
    "        print('密码正确')\n",
    "        break\n",
    "    elif '*' in you_password:\n",
    "        print('密码中不能带有*')\n",
    "        print('还有'+str(password_times)+'次机会')\n",
    "    else:\n",
    "        password_times -=1\n",
    "        print('密码错误')\n",
    "        print('还有'+str(password_times)+'次机会')\n",
    "        \n",
    "else:\n",
    "    print('三次机会用完')"
   ]
  },
  {
   "cell_type": "code",
   "execution_count": 4,
   "metadata": {},
   "outputs": [
    {
     "name": "stdout",
     "output_type": "stream",
     "text": [
      "* * * * * \n",
      "* * * * * \n",
      "* * * * * \n",
      "* * * * * \n"
     ]
    }
   ],
   "source": [
    "#for循环简单图形打印\n",
    "'''\n",
    "* * * * *\n",
    "* * * * *\n",
    "* * * * *\n",
    "* * * * *\n",
    "'''\n",
    "for a_num in range(1,5):\n",
    "    for b_num in range (1,6):\n",
    "        print('*',end=\" \")\n",
    "    print()"
   ]
  },
  {
   "cell_type": "code",
   "execution_count": 16,
   "metadata": {},
   "outputs": [
    {
     "name": "stdout",
     "output_type": "stream",
     "text": [
      "* * * * * \n",
      "*       *\n",
      "*       *\n",
      "* * * * * \n"
     ]
    }
   ],
   "source": [
    "'''\n",
    "* * * * *\n",
    "*       *\n",
    "*       *\n",
    "* * * * *\n",
    "'''\n",
    "for c_num in range(1,5):\n",
    "    if (c_num == 1) or (c_num == 4):\n",
    "        print('* '* 5,)\n",
    "    else:\n",
    "        print('*       *')"
   ]
  },
  {
   "cell_type": "code",
   "execution_count": 20,
   "metadata": {},
   "outputs": [
    {
     "name": "stdout",
     "output_type": "stream",
     "text": [
      "输入图形层数：4\n",
      "   ****\n",
      "  ***\n",
      " **\n",
      "*\n"
     ]
    }
   ],
   "source": [
    "'''\n",
    "........\n",
    "   ****\n",
    "  ***\n",
    " **\n",
    "*\n",
    "'''\n",
    "d_num = int(input('输入图形层数：'))\n",
    "while d_num:\n",
    "    for i_num in range(1,d_num):\n",
    "        print(' ',end = \"\")\n",
    "    for j_num in range(1,d_num+1):\n",
    "        print('*',end=\"\")\n",
    "    print()\n",
    "    d_num -=1"
   ]
  },
  {
   "cell_type": "code",
   "execution_count": 19,
   "metadata": {},
   "outputs": [
    {
     "name": "stdout",
     "output_type": "stream",
     "text": [
      "输入图形层数：5\n",
      "     * \n",
      "    * * \n",
      "   * * * \n",
      "  * * * * \n",
      " * * * * * \n"
     ]
    }
   ],
   "source": [
    "'''\n",
    "正三角形\n",
    "    *   \n",
    "   * *\n",
    "  * * *\n",
    " * * * *\n",
    "* * * * *\n",
    "'''\n",
    "d_num = int(input('输入图形层数：'))\n",
    "for i in range(d_num):\n",
    "    for j in range (d_num - i):\n",
    "        print(' ',end = \"\")\n",
    "    for m in range(i+1):\n",
    "        print('* ',end=\"\")\n",
    "    print()\n"
   ]
  },
  {
   "cell_type": "code",
   "execution_count": 31,
   "metadata": {},
   "outputs": [
    {
     "name": "stdout",
     "output_type": "stream",
     "text": [
      "     * \n",
      "    * * \n",
      "   * * * \n",
      "  * * * * \n",
      " * * * * * \n",
      "  * * * * \n",
      "   * * * \n",
      "    * * \n",
      "     * \n"
     ]
    }
   ],
   "source": [
    "for i in range(d_num-1):\n",
    "    for j in range (d_num - i):\n",
    "        print(end = \" \")\n",
    "    for m in range(i+1):\n",
    "        print('* ',end=\"\")\n",
    "    print()\n",
    "for i in range(d_num):\n",
    "    for j in range(i+1):\n",
    "        print(' ',end=\"\")\n",
    "    for m in range(d_num-i):\n",
    "        print('*',end=\" \")\n",
    "    print()\n",
    "    "
   ]
  },
  {
   "cell_type": "code",
   "execution_count": 36,
   "metadata": {},
   "outputs": [
    {
     "name": "stdout",
     "output_type": "stream",
     "text": [
      "输入图形层数：5\n",
      "     * * * * * \n",
      "    * * * * * * \n",
      "   * * * * * * * \n",
      "  * * * * * * * * \n",
      " * * * * * * * * * \n",
      "--------------------\n",
      "     * * * * * \n",
      "    *         * \n",
      "   *           * \n",
      "  *             * \n",
      " * * * * * * * * * \n"
     ]
    }
   ],
   "source": [
    "d_num = int(input('输入图形层数：'))\n",
    "for i in range(d_num):\n",
    "    for j in range(d_num - i):\n",
    "        print(end=\" \")     \n",
    "    for k in range(d_num - i,d_num+5):\n",
    "        print(\"*\",end=\" \")\n",
    "    print()\n",
    "\n",
    "print('-'*20)\n",
    "\n",
    "for i in range(d_num):\n",
    "    for j in range(d_num - i):\n",
    "        print(end=\" \")     \n",
    "    for k in range(d_num - i,d_num+5):\n",
    "        if i==0 or i==d_num-1 or k==d_num-i or k==d_num+4:\n",
    "            print(\"*\",end=\" \")\n",
    "        else:\n",
    "            print(' ',end=\" \")\n",
    "    print()"
   ]
  },
  {
   "cell_type": "code",
   "execution_count": 1,
   "metadata": {},
   "outputs": [
    {
     "name": "stdout",
     "output_type": "stream",
     "text": [
      "1 \n",
      "2 4 \n",
      "3 6 9 \n",
      "4 8 12 16 \n",
      "5 10 15 20 25 \n",
      "6 12 18 24 30 36 \n",
      "7 14 21 28 35 42 49 \n",
      "8 16 24 32 40 48 56 64 \n",
      "9 18 27 36 45 54 63 72 81 \n"
     ]
    }
   ],
   "source": [
    "#九九乘法表\n",
    "for i in range(1,10):\n",
    "    for j in range(1,i+1):\n",
    "        num = i * j\n",
    "        print(num,end = \" \")\n",
    "    print()"
   ]
  },
  {
   "cell_type": "code",
   "execution_count": 2,
   "metadata": {},
   "outputs": [
    {
     "name": "stdout",
     "output_type": "stream",
     "text": [
      "153\n",
      "370\n",
      "371\n",
      "407\n"
     ]
    }
   ],
   "source": [
    "#水仙花数\n",
    "for i in range(100,1000):\n",
    "    sum = 0\n",
    "    temp = i \n",
    "    while temp:\n",
    "        sum =sum + (temp % 10)**3\n",
    "        temp//=10\n",
    "    if sum == i:\n",
    "        print(i)"
   ]
  },
  {
   "cell_type": "code",
   "execution_count": 3,
   "metadata": {},
   "outputs": [
    {
     "name": "stdout",
     "output_type": "stream",
     "text": [
      "red: 0 yellow: 2 green: 6 \n",
      "red: 0 yellow: 3 green: 5 \n",
      "red: 1 yellow: 1 green: 6 \n",
      "red: 1 yellow: 2 green: 5 \n",
      "red: 1 yellow: 3 green: 4 \n",
      "red: 2 yellow: 0 green: 6 \n",
      "red: 2 yellow: 1 green: 5 \n",
      "red: 2 yellow: 2 green: 4 \n",
      "red: 2 yellow: 3 green: 3 \n",
      "red: 3 yellow: 0 green: 5 \n",
      "red: 3 yellow: 1 green: 4 \n",
      "red: 3 yellow: 2 green: 3 \n",
      "red: 3 yellow: 3 green: 2 \n"
     ]
    }
   ],
   "source": [
    "'''\n",
    "三色球问题\n",
    "红球，黄球各三个，绿球六个，选八个球\n",
    "计算颜色搭配\n",
    "'''\n",
    "for red in range(0,4):\n",
    "    for yellow in range(0,4):\n",
    "        for green in range(2,7):\n",
    "            if red + yellow + green == 8:\n",
    "                print('red:',format(red),end=\" \")\n",
    "                print('yellow:',format(yellow),end=\" \")\n",
    "                print('green:',format(green),end=\" \")\n",
    "                print()"
   ]
  },
  {
   "cell_type": "code",
   "execution_count": 4,
   "metadata": {},
   "outputs": [
    {
     "name": "stdout",
     "output_type": "stream",
     "text": [
      "[1, 2, 3, 4, 5, 6, [7, 8, 9]]\n",
      "[1, 2, 3, 4, 5, 6, 7, 8, 9]\n",
      "[1, 2, 3, 8, 4, 5, 6]\n"
     ]
    }
   ],
   "source": [
    "a = [1,2,3,4,5,6]\n",
    "a.append([7,8,9])\n",
    "print(a)\n",
    "\n",
    "b = [1,2,3,4,5,6]\n",
    "b.extend([7,8,9])\n",
    "print(b)\n",
    "\n",
    "#L.insert(index,obj)\n",
    "#index -- 对象obj需要插入的索引值。\n",
    "#obj -- 要插入列表中的对象\n",
    "c = [1,2,3,4,5,6]\n",
    "c.insert(3,8)\n",
    "print(c)"
   ]
  },
  {
   "cell_type": "code",
   "execution_count": 5,
   "metadata": {},
   "outputs": [
    {
     "name": "stdout",
     "output_type": "stream",
     "text": [
      "[(0, 1), (0, 3), (0, 5), (0, 7), (0, 9), (2, 1), (2, 3), (2, 5), (2, 7), (2, 9), (4, 1), (4, 3), (4, 5), (4, 7), (4, 9), (6, 1), (6, 3), (6, 5), (6, 7), (6, 9), (8, 1), (8, 3), (8, 5), (8, 7), (8, 9)]\n"
     ]
    }
   ],
   "source": [
    "# ls =[x,y for x in range(10) for y in range(10) if x%2 == 0 if y%2 != 0]\n",
    "ls = [(x,y) for x in range(10) for y in range(10) if x%2 == 0 if y%2 != 0]\n",
    "print(ls)"
   ]
  },
  {
   "cell_type": "code",
   "execution_count": 6,
   "metadata": {},
   "outputs": [
    {
     "name": "stdout",
     "output_type": "stream",
     "text": [
      "[(0, 1), (0, 3), (0, 5), (0, 7), (0, 9), (2, 1), (2, 3), (2, 5), (2, 7), (2, 9), (4, 1), (4, 3), (4, 5), (4, 7), (4, 9), (6, 1), (6, 3), (6, 5), (6, 7), (6, 9), (8, 1), (8, 3), (8, 5), (8, 7), (8, 9)]\n"
     ]
    }
   ],
   "source": [
    "ls = []\n",
    "for x in range(10):\n",
    "    for y in range(10):\n",
    "        if x % 2 == 0 and y % 2 != 0:\n",
    "            ls.append((x,y))\n",
    "            \n",
    "print(ls)"
   ]
  },
  {
   "cell_type": "code",
   "execution_count": 7,
   "metadata": {},
   "outputs": [
    {
     "name": "stdout",
     "output_type": "stream",
     "text": [
      "1653684497096\n",
      "1653685482120\n",
      "[1, 2, 3, 4, 5, 6, 7, 8, 9]\n",
      "[1, 2, 3, 4, 5, 6, 7, 8, 9]\n"
     ]
    }
   ],
   "source": [
    "l = [1,2,3,4,5,6,7,8,9]\n",
    "l1 = l[:]\n",
    "print(id(l))\n",
    "print(id(l1))\n",
    "print(l)\n",
    "print(l1)"
   ]
  },
  {
   "cell_type": "code",
   "execution_count": 8,
   "metadata": {},
   "outputs": [
    {
     "name": "stdout",
     "output_type": "stream",
     "text": [
      "你还没有注册\n",
      "登录成功\n"
     ]
    }
   ],
   "source": [
    "# 模拟从数据库中取出来的用户名和密码\n",
    "user_pass = {'xiaoliu':'asd123','guaiguai':'password'}\n",
    "\n",
    "def create_user(username,password):\n",
    "    '''\n",
    "    username:用户名\n",
    "    password:密码\n",
    "    '''\n",
    "    #判断用户名是否已经存在\n",
    "    usernames = user_pass.keys()\n",
    "    if username in usernames:\n",
    "        print('用户名已存在')\n",
    "    else:\n",
    "        #更新user_pass\n",
    "        user_pass[username] = password\n",
    "        print('注册成功')\n",
    "        \n",
    "# create_user('xiaowang',123456)\n",
    "# print(user_pass)\n",
    "\n",
    "def login_user(username,password):\n",
    "    usernames = user_pass.keys()\n",
    "    if username not in usernames:\n",
    "        print('你还没有注册')\n",
    "    elif password != user_pass[username]:\n",
    "        print('密码错误')\n",
    "    else:\n",
    "        print('登录成功')\n",
    "        \n",
    "        \n",
    "login_user('xiaolong',123456) \n",
    "login_user('xiaoliu','asd123')"
   ]
  }
 ],
 "metadata": {
  "kernelspec": {
   "display_name": "Python 3",
   "language": "python",
   "name": "python3"
  },
  "language_info": {
   "codemirror_mode": {
    "name": "ipython",
    "version": 3
   },
   "file_extension": ".py",
   "mimetype": "text/x-python",
   "name": "python",
   "nbconvert_exporter": "python",
   "pygments_lexer": "ipython3",
   "version": "3.7.4"
  }
 },
 "nbformat": 4,
 "nbformat_minor": 2
}
